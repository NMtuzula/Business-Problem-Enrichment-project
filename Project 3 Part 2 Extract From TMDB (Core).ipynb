{
 "cells": [
  {
   "cell_type": "code",
   "execution_count": 19,
   "id": "1df697e1",
   "metadata": {},
   "outputs": [
    {
     "name": "stdout",
     "output_type": "stream",
     "text": [
      "Requirement already satisfied: tmdbsimple in c:\\users\\x474241\\appdata\\local\\anaconda3\\lib\\site-packages (2.9.1)\n",
      "Requirement already satisfied: requests in c:\\users\\x474241\\appdata\\local\\anaconda3\\lib\\site-packages (from tmdbsimple) (2.31.0)\n",
      "Requirement already satisfied: charset-normalizer<4,>=2 in c:\\users\\x474241\\appdata\\local\\anaconda3\\lib\\site-packages (from requests->tmdbsimple) (2.0.4)\n",
      "Requirement already satisfied: idna<4,>=2.5 in c:\\users\\x474241\\appdata\\local\\anaconda3\\lib\\site-packages (from requests->tmdbsimple) (3.4)\n",
      "Requirement already satisfied: urllib3<3,>=1.21.1 in c:\\users\\x474241\\appdata\\local\\anaconda3\\lib\\site-packages (from requests->tmdbsimple) (1.26.16)\n",
      "Requirement already satisfied: certifi>=2017.4.17 in c:\\users\\x474241\\appdata\\local\\anaconda3\\lib\\site-packages (from requests->tmdbsimple) (2023.7.22)\n"
     ]
    }
   ],
   "source": [
    "!pip install tmdbsimple"
   ]
  },
  {
   "cell_type": "code",
   "execution_count": 3,
   "id": "ea0afc5e",
   "metadata": {},
   "outputs": [
    {
     "data": {
      "text/plain": [
       "['title_akas.csv.gz', 'title_basic.csv.gz', 'title_ratings.csv.gz']"
      ]
     },
     "execution_count": 3,
     "metadata": {},
     "output_type": "execute_result"
    }
   ],
   "source": [
    "import os, time,json\n",
    "import tmdbsimple as tmdb \n",
    "FOLDER = \"Data/\"\n",
    "os.makedirs(FOLDER, exist_ok=True)\n",
    "os.listdir(FOLDER)"
   ]
  },
  {
   "cell_type": "code",
   "execution_count": 8,
   "id": "b7a2665a",
   "metadata": {},
   "outputs": [],
   "source": [
    "import pandas as pd\n",
    "import numpy as np"
   ]
  },
  {
   "cell_type": "code",
   "execution_count": 10,
   "id": "a192f23b",
   "metadata": {},
   "outputs": [
    {
     "name": "stdout",
     "output_type": "stream",
     "text": [
      "['C:\\\\Users\\\\X474241\\\\OneDrive - Old Mutual\\\\Documents\\\\GitHub\\\\Business-Problem-Enrichment-project', 'C:\\\\Users\\\\X474241\\\\AppData\\\\Local\\\\anaconda3\\\\python311.zip', 'C:\\\\Users\\\\X474241\\\\AppData\\\\Local\\\\anaconda3\\\\DLLs', 'C:\\\\Users\\\\X474241\\\\AppData\\\\Local\\\\anaconda3\\\\Lib', 'C:\\\\Users\\\\X474241\\\\AppData\\\\Local\\\\anaconda3', '', 'C:\\\\Users\\\\X474241\\\\AppData\\\\Local\\\\anaconda3\\\\Lib\\\\site-packages', 'C:\\\\Users\\\\X474241\\\\AppData\\\\Local\\\\anaconda3\\\\Lib\\\\site-packages\\\\win32', 'C:\\\\Users\\\\X474241\\\\AppData\\\\Local\\\\anaconda3\\\\Lib\\\\site-packages\\\\win32\\\\lib', 'C:\\\\Users\\\\X474241\\\\AppData\\\\Local\\\\anaconda3\\\\Lib\\\\site-packages\\\\Pythonwin']\n"
     ]
    }
   ],
   "source": [
    "import sys\n",
    "print(sys.path)"
   ]
  },
  {
   "cell_type": "code",
   "execution_count": 12,
   "id": "5abf63bb",
   "metadata": {},
   "outputs": [],
   "source": [
    "sys.path.append('C:\\\\Users\\\\X474241\\\\AppData\\\\Local\\\\anaconda3\\\\Lib\\\\site-packages')"
   ]
  },
  {
   "cell_type": "code",
   "execution_count": 4,
   "id": "c048b6fe",
   "metadata": {},
   "outputs": [],
   "source": [
    "def write_json(new_data, filename): \n",
    "    \"\"\"Appends a list of records (new_data) to a json file (filename). \n",
    "    Adapted from: https://www.geeksforgeeks.org/append-to-json-file-using-python/\"\"\"  \n",
    "    \n",
    "    with open(filename,'r+') as file:\n",
    "        # First we load existing data into a dict.\n",
    "        file_data = json.load(file)\n",
    "        ## Choose extend or append\n",
    "        if (type(new_data) == list) & (type(file_data) == list):\n",
    "            file_data.extend(new_data)\n",
    "        else:\n",
    "             file_data.append(new_data)\n",
    "        # Sets file's current position at offset.\n",
    "        file.seek(0)\n",
    "        # convert back to json.\n",
    "        json.dump(file_data, file)"
   ]
  },
  {
   "cell_type": "code",
   "execution_count": 15,
   "id": "bcbe7497",
   "metadata": {},
   "outputs": [
    {
     "data": {
      "text/plain": [
       "dict_keys(['api-key'])"
      ]
     },
     "execution_count": 15,
     "metadata": {},
     "output_type": "execute_result"
    }
   ],
   "source": [
    "with open('C:\\\\Users\\\\X474241\\\\OneDrive - Old Mutual\\\\Documents\\\\GitHub\\\\tmdb_api.json', 'r') as f:\n",
    "    login = json.load(f)\n",
    "login.keys()"
   ]
  },
  {
   "cell_type": "code",
   "execution_count": 16,
   "id": "88edc3a4",
   "metadata": {},
   "outputs": [],
   "source": [
    "tmdb.API_KEY =  login['api-key']"
   ]
  },
  {
   "cell_type": "code",
   "execution_count": 17,
   "id": "8b689fe5",
   "metadata": {},
   "outputs": [],
   "source": [
    "movie = tmdb.Movies(603)"
   ]
  },
  {
   "cell_type": "code",
   "execution_count": null,
   "id": "e28bff19",
   "metadata": {},
   "outputs": [],
   "source": [
    "info = movie.info()\n",
    "info"
   ]
  }
 ],
 "metadata": {
  "kernelspec": {
   "display_name": "Python (dojo-env)",
   "language": "python",
   "name": "dojo-env"
  },
  "language_info": {
   "codemirror_mode": {
    "name": "ipython",
    "version": 3
   },
   "file_extension": ".py",
   "mimetype": "text/x-python",
   "name": "python",
   "nbconvert_exporter": "python",
   "pygments_lexer": "ipython3",
   "version": "3.11.5"
  }
 },
 "nbformat": 4,
 "nbformat_minor": 5
}
